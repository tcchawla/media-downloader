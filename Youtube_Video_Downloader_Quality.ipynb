{
 "cells": [
  {
   "cell_type": "code",
   "execution_count": 1,
   "id": "21858a11",
   "metadata": {},
   "outputs": [
    {
     "name": "stdout",
     "output_type": "stream",
     "text": [
      "\u001b[33mDEPRECATION: Configuring installation scheme with distutils config files is deprecated and will no longer work in the near future. If you are using a Homebrew or Linuxbrew Python, please see discussion at https://github.com/Homebrew/homebrew-core/issues/76621\u001b[0m\u001b[33m\n",
      "\u001b[0mRequirement already satisfied: pytube in /opt/homebrew/lib/python3.9/site-packages (12.1.0)\n",
      "\u001b[33mDEPRECATION: Configuring installation scheme with distutils config files is deprecated and will no longer work in the near future. If you are using a Homebrew or Linuxbrew Python, please see discussion at https://github.com/Homebrew/homebrew-core/issues/76621\u001b[0m\u001b[33m\n",
      "\u001b[0m\u001b[33mDEPRECATION: Configuring installation scheme with distutils config files is deprecated and will no longer work in the near future. If you are using a Homebrew or Linuxbrew Python, please see discussion at https://github.com/Homebrew/homebrew-core/issues/76621\u001b[0m\u001b[33m\n",
      "\u001b[0mRequirement already satisfied: opencv-python in /opt/homebrew/lib/python3.9/site-packages (4.6.0.66)\n",
      "Requirement already satisfied: numpy>=1.19.3 in /opt/homebrew/lib/python3.9/site-packages (from opencv-python) (1.23.1)\n",
      "\u001b[33mDEPRECATION: Configuring installation scheme with distutils config files is deprecated and will no longer work in the near future. If you are using a Homebrew or Linuxbrew Python, please see discussion at https://github.com/Homebrew/homebrew-core/issues/76621\u001b[0m\u001b[33m\n",
      "\u001b[0mEnter YouTube Video Link To Get Resolutions: https://youtu.be/uCdliQCk4lE\n",
      "Title: HTML5 And CSS3 in Depth Full Course\n",
      "[<Stream: itag=\"136\" mime_type=\"video/mp4\" res=\"720p\" fps=\"30fps\" vcodec=\"avc1.64001f\" progressive=\"False\" type=\"video\">, <Stream: itag=\"247\" mime_type=\"video/webm\" res=\"720p\" fps=\"30fps\" vcodec=\"vp9\" progressive=\"False\" type=\"video\">, <Stream: itag=\"135\" mime_type=\"video/mp4\" res=\"480p\" fps=\"30fps\" vcodec=\"avc1.4d401f\" progressive=\"False\" type=\"video\">, <Stream: itag=\"244\" mime_type=\"video/webm\" res=\"480p\" fps=\"30fps\" vcodec=\"vp9\" progressive=\"False\" type=\"video\">, <Stream: itag=\"134\" mime_type=\"video/mp4\" res=\"360p\" fps=\"30fps\" vcodec=\"avc1.4d401e\" progressive=\"False\" type=\"video\">, <Stream: itag=\"243\" mime_type=\"video/webm\" res=\"360p\" fps=\"30fps\" vcodec=\"vp9\" progressive=\"False\" type=\"video\">, <Stream: itag=\"133\" mime_type=\"video/mp4\" res=\"240p\" fps=\"30fps\" vcodec=\"avc1.4d4015\" progressive=\"False\" type=\"video\">, <Stream: itag=\"242\" mime_type=\"video/webm\" res=\"240p\" fps=\"30fps\" vcodec=\"vp9\" progressive=\"False\" type=\"video\">, <Stream: itag=\"160\" mime_type=\"video/mp4\" res=\"144p\" fps=\"30fps\" vcodec=\"avc1.4d400c\" progressive=\"False\" type=\"video\">, <Stream: itag=\"278\" mime_type=\"video/webm\" res=\"144p\" fps=\"30fps\" vcodec=\"vp9\" progressive=\"False\" type=\"video\">]\n",
      "\n",
      "\n",
      "[<Stream: itag=\"139\" mime_type=\"audio/mp4\" abr=\"48kbps\" acodec=\"mp4a.40.5\" progressive=\"False\" type=\"audio\">, <Stream: itag=\"140\" mime_type=\"audio/mp4\" abr=\"128kbps\" acodec=\"mp4a.40.2\" progressive=\"False\" type=\"audio\">, <Stream: itag=\"249\" mime_type=\"audio/webm\" abr=\"50kbps\" acodec=\"opus\" progressive=\"False\" type=\"audio\">, <Stream: itag=\"250\" mime_type=\"audio/webm\" abr=\"70kbps\" acodec=\"opus\" progressive=\"False\" type=\"audio\">, <Stream: itag=\"251\" mime_type=\"audio/webm\" abr=\"160kbps\" acodec=\"opus\" progressive=\"False\" type=\"audio\">]\n"
     ]
    }
   ],
   "source": [
    "# ! pip install git+https://github.com/nficano/pytube\n",
    "! pip3 install pytube\n",
    "# ! pip install pytube\n",
    "from pytube import YouTube\n",
    "# misc\n",
    "import os\n",
    "import shutil\n",
    "import math\n",
    "import datetime\n",
    "# plots\n",
    "# ! pip install matplotlib\n",
    "# import matplotlib.pyplot as plt\n",
    "# %matplotlib.inline\n",
    "\n",
    "# image operation\n",
    "! pip3 install opencv-python\n",
    "import cv2\n",
    "\n",
    "link = input(\"Enter YouTube Video Link To Get Resolutions: \")\n",
    "yt_video = YouTube(link)\n",
    "print(f\"Title: {yt_video.title}\")\n",
    "\n",
    "# video_list = []\n",
    "# audio_list = []\n",
    "video = yt_video.streams.filter(only_video = \"True\")\n",
    "print(video)\n",
    "\n",
    "# for stream_split in video:\n",
    "#    video_list += stream_split.split(\",\")\n",
    "# print(video_list)\n",
    "print()\n",
    "print()\n",
    "\n",
    "audio = yt_video.streams.filter(only_audio = \"True\")\n",
    "\n",
    "print(audio)\n",
    "\n",
    "\n",
    "# video.streams.get_by_itag(18).download()"
   ]
  },
  {
   "cell_type": "code",
   "execution_count": 4,
   "id": "4ea2621e",
   "metadata": {
    "pycharm": {
     "name": "#%%\n"
    }
   },
   "outputs": [],
   "source": [
    "# ! pip install pytube"
   ]
  },
  {
   "cell_type": "code",
   "execution_count": 7,
   "id": "81821324",
   "metadata": {},
   "outputs": [],
   "source": [
    "# from platform import python_version\n",
    "# print(python_version)"
   ]
  },
  {
   "cell_type": "code",
   "execution_count": null,
   "id": "3f228d96",
   "metadata": {
    "scrolled": true
   },
   "outputs": [],
   "source": [
    "# Change Lecture Number in the directory\n",
    "# Change the get_by_itag() number\n",
    "! pip3 install youtube_dl\n",
    "from youtube_dl import YoutubeDL\n",
    "import os\n",
    "ytdl = YoutubeDL()\n",
    "info = ytdl.extract_info(url=link, download=False)\n",
    "formats = info['formats']\n",
    "format_of = formats[0] \n",
    "title = yt_video.title\n",
    "directory =  \"/Users/tarunchawla/Coding Tutorials/Video Lectures/DevOps-Bootcamp/\" + str(title)\n",
    "name_of_the_video_file =\"video.mp4\"\n",
    "# file_size_in_bytes = yt_video.filesize\n",
    "file_size_in_bytes = format_of[\"filesize\"]\n",
    "file_size_in_kB = file_size_in_bytes / 1024\n",
    "file_size_in_MB = file_size_in_kB / 1024\n",
    "print(f\"Video File: {title} FileSize Is {file_size_in_bytes} bytes\")\n",
    "print(\"Video File Downloading...\")\n",
    "# yt_video.streams.get_by_itag(400).download(\"Coding Tutorials/Video Lectures/ \")\n",
    "yt_video.streams.get_by_itag(136).download(output_path = directory, filename = name_of_the_video_file)\n",
    "print(\"Video File Download completed!!\")"
   ]
  },
  {
   "cell_type": "code",
   "execution_count": 3,
   "id": "38ebfb6d",
   "metadata": {},
   "outputs": [
    {
     "name": "stdout",
     "output_type": "stream",
     "text": [
      "[youtube] NF12WmoSSzM: Downloading webpage\n",
      "/Users/tarunchawla/Coding Tutorials/Video Lectures/DevOps-Bootcamp/सबकुछ परमात्मा पर छोड़ दो। | krishna motivational speech | krishna vani | amrit vachan\n",
      "Audio File: सबकुछ परमात्मा पर छोड़ दो। | krishna motivational speech | krishna vani | amrit vachan FileSize Is 4631202 bytes\n",
      "Audio File Downloading...\n",
      "Audio File Download completed!!\n",
      "ffmpeg -i video.mp4 -i audio.mp4 -c copy -map 0:v:0 -map 1:a:0  OutPut.mp4\n",
      "rm audio.mp4\n",
      "rm video.mp4\n"
     ]
    }
   ],
   "source": [
    "# Change Lecture Number in the directory\n",
    "# Change the get_by_itag() number\n",
    "# Change the Lecture Number on the last print statement\n",
    "\n",
    "from youtube_dl import YoutubeDL\n",
    "import os\n",
    "ytdl = YoutubeDL()\n",
    "info = ytdl.extract_info(url=link, download=False)\n",
    "formats = info['formats']\n",
    "format_of = formats[0]\n",
    "title = yt_video.title\n",
    "directory = \"/Users/tarunchawla/Coding Tutorials/Video Lectures/DevOps-Bootcamp/\" + str(title)\n",
    "print(directory)\n",
    "name_of_the_audio_file = \"audio.mp4\"\n",
    "# file_size_in_bytes = yt_video.filesize\n",
    "file_size_in_bytes = format_of[\"filesize\"]\n",
    "file_size_in_kB = file_size_in_bytes / 1024\n",
    "file_size_in_MB = file_size_in_kB / 1024\n",
    "print(f\"Audio File: {title} FileSize Is {file_size_in_bytes} bytes\")\n",
    "print(\"Audio File Downloading...\")\n",
    "# yt_video.streams.get_by_itag(140).download(\"Coding Tutorials/Video Lectures/ \")\n",
    "yt_video.streams.get_by_itag(140).download(output_path = directory, filename = name_of_the_audio_file)\n",
    "print(\"Audio File Download completed!!\")\n",
    "\n",
    "# Run the output of these printed commands on the Terminal. But firstly go to the directory \n",
    "# Where you have downloaded the video and audio files in that folder open terminal then run these commands.\n",
    "print(f\"ffmpeg -i video.mp4 -i audio.mp4 -c copy -map 0:v:0 -map 1:a:0 \", \"OutPut.mp4\")\n",
    "print(\"rm audio.mp4\")\n",
    "print(\"rm video.mp4\")"
   ]
  },
  {
   "cell_type": "raw",
   "id": "fb87c608",
   "metadata": {},
   "source": [
    "# import ffmpeg\n",
    "# pip install ffmpeg\n",
    "# ffmpeg -i Complete Git and GitHub Tutorial_video.mp4 -i Complete Git and GitHub Tutorial_auido.mp4 -c:v copy -c:a aac out.mp4       \n",
    "# ffmpeg -i Complete Git and GitHub Tutorial_video.mp4 -i Complete Git and GitHub Tutorial_audio.mp4 \\ -c:v copy -c:a aac -strict experimental output.mp4\n",
    "\n",
    "# To install Brew: /bin/bash -c \"$(curl -fsSL https://raw.githubusercontent.com/Homebrew/install/HEAD/install.sh)\"\n",
    "# To install ffmpeg: brew install ffmpeg\n",
    "# paste this in Terminal: ffmpeg -i video.mp4 -i auido.mp4 -c copy -map 0:v:0 -map 1:a:0 output.mp4"
   ]
  }
 ],
 "metadata": {
  "kernelspec": {
   "display_name": "Python 3 (ipykernel)",
   "language": "python",
   "name": "python3"
  },
  "language_info": {
   "codemirror_mode": {
    "name": "ipython",
    "version": 3
   },
   "file_extension": ".py",
   "mimetype": "text/x-python",
   "name": "python",
   "nbconvert_exporter": "python",
   "pygments_lexer": "ipython3",
   "version": "3.9.13"
  }
 },
 "nbformat": 4,
 "nbformat_minor": 5
}
